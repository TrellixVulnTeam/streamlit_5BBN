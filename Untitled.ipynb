{
 "cells": [
  {
   "cell_type": "code",
   "execution_count": 7,
   "metadata": {},
   "outputs": [
    {
     "name": "stdout",
     "output_type": "stream",
     "text": [
      "Requirement already satisfied: beautifulsoup4 in /Users/apple/opt/anaconda3/lib/python3.7/site-packages (4.8.2)\n",
      "Requirement already satisfied: soupsieve>=1.2 in /Users/apple/opt/anaconda3/lib/python3.7/site-packages (from beautifulsoup4) (1.9.5)\n",
      "\u001b[33mWARNING: You are using pip version 20.2.4; however, version 20.3.3 is available.\n",
      "You should consider upgrading via the '/Users/apple/opt/anaconda3/bin/python -m pip install --upgrade pip' command.\u001b[0m\n",
      "Note: you may need to restart the kernel to use updated packages.\n"
     ]
    }
   ],
   "source": [
    "pip install beautifulsoup4"
   ]
  },
  {
   "cell_type": "code",
   "execution_count": 9,
   "metadata": {},
   "outputs": [],
   "source": [
    "import requests\n",
    "from bs4 import BeautifulSoup\n",
    "\n",
    "def trade_spider(max_pages):\n",
    "    page = 1\n",
    "    while page <= max_pages:\n",
    "        url = 'https://www.amazon.ca/s?i=electronics&bbn=680468011&rh=n%3A667823011%2Cn%3A677211011%2Cn%3A680468011%2Cp_n_feature_browse-bin%3A10075523011&lo=image&page=2&pf_rd_i=680468011&pf_rd_m=A1IM4EOPHS76S7&pf_rd_p=e24ad214-dcef-49d5-b2e0-b79a8c9a4e82&pf_rd_r=40H46T1CQPR8QRX8SWKC&pf_rd_s=merchandised-search-2&pf_rd_t=101&qid=1609948423&ref=sr_pg_' + str(page)\n",
    "        source_code = requests.get(url)\n",
    "        plain_text = source_code.text\n",
    "        soup = BeautifulSoup(plain_text, \"html.parser\")\n",
    "        for link in soup.find_all('a', {'class': 'a-size-base-plus a-color-base a-text-normal'}):\n",
    "            href = link.get('href')\n",
    "            print(href)\n",
    "        page += 1\n",
    "trade_spider(1)"
   ]
  },
  {
   "cell_type": "code",
   "execution_count": null,
   "metadata": {},
   "outputs": [],
   "source": []
  },
  {
   "cell_type": "code",
   "execution_count": null,
   "metadata": {},
   "outputs": [],
   "source": []
  }
 ],
 "metadata": {
  "kernelspec": {
   "display_name": "Python 3",
   "language": "python",
   "name": "python3"
  },
  "language_info": {
   "codemirror_mode": {
    "name": "ipython",
    "version": 3
   },
   "file_extension": ".py",
   "mimetype": "text/x-python",
   "name": "python",
   "nbconvert_exporter": "python",
   "pygments_lexer": "ipython3",
   "version": "3.7.6"
  }
 },
 "nbformat": 4,
 "nbformat_minor": 4
}
